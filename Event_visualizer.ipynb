{
 "cells": [
  {
   "cell_type": "code",
   "execution_count": 1,
   "metadata": {},
   "outputs": [],
   "source": [
    "import os\n",
    "import os.path\n",
    "import pandas as pd\n",
    "import numpy as np\n",
    "import matplotlib as mpl\n",
    "import matplotlib.pyplot as plt\n",
    "from ipywidgets import interactive, interactive_output, interact_manual\n",
    "import ipywidgets as widgets\n",
    "import cv2\n",
    "import time\n",
    "import mediapy\n",
    "from tqdm.notebook import tqdm\n",
    "import pyarrow\n",
    "mpl.rcParams['figure.figsize'] = [16.0, 12.0]\n",
    "\n",
    "import tonic\n",
    "import tonic.transforms as transforms\n",
    "\n",
    "from scipy.io import savemat"
   ]
  },
  {
   "cell_type": "code",
   "execution_count": 2,
   "metadata": {},
   "outputs": [],
   "source": [
    "brisbane_event_traverses = [\n",
    "    'dvs_vpr_2020-04-21-17-03-03_no_hot_pixels_nobursts_denoised.feather',\n",
    "    'dvs_vpr_2020-04-22-17-24-21_no_hot_pixels_nobursts_denoised.feather',\n",
    "    # 'dvs_vpr_2020-04-24-15-12-03_no_hot_pixels_nobursts_denoised.feather',\n",
    "    # 'dvs_vpr_2020-04-28-09-14-11_no_hot_pixels_nobursts_denoised.feather',\n",
    "    # 'dvs_vpr_2020-04-29-06-20-23_no_hot_pixels_nobursts_denoised.feather',\n",
    "]\n",
    "\n",
    "qcr_traverses = [\n",
    "    'bags_2021-08-19-08-25-42_denoised.feather', # side-facing, slow\n",
    "    'bags_2021-08-19-08-28-43_denoised.feather', # side-facing, slow\n",
    "    'bags_2021-08-19-09-45-28_denoised.feather', # side-facing, slow\n",
    "    # 'bags_2021-08-20-09-52-59_denoised.feather', # down-facing, slow\n",
    "    # 'bags_2021-08-20-09-49-58_denoised.feather', # down-facing, slow\n",
    "    # 'bags_2021-08-20-10-19-45_denoised.feather', # side-facing, fast\n",
    "]"
   ]
  },
  {
   "cell_type": "code",
   "execution_count": 3,
   "metadata": {},
   "outputs": [
    {
     "data": {
      "text/plain": [
       "(346, 260)"
      ]
     },
     "execution_count": 3,
     "metadata": {},
     "output_type": "execute_result"
    }
   ],
   "source": [
    "path_to_qcr_event_files = './Data/'\n",
    "\n",
    "traverse = qcr_traverses[0]\n",
    "\n",
    "event_stream = pd.read_feather(os.path.join(path_to_qcr_event_files, traverse))\n",
    "\n",
    "im_width, im_height = int(event_stream['x'].max() + 1), int(event_stream['y'].max() + 1)\n",
    "\n",
    "ordering = \"txyp\"\n",
    "\n",
    "x_index = ordering.find(\"x\")\n",
    "y_index = ordering.find(\"y\")\n",
    "t_index = ordering.find(\"t\")\n",
    "p_index = ordering.find(\"p\")\n",
    "\n",
    "sensor_size = (im_width, im_height)\n",
    "sensor_size"
   ]
  },
  {
   "cell_type": "code",
   "execution_count": 4,
   "metadata": {},
   "outputs": [
    {
     "name": "stdout",
     "output_type": "stream",
     "text": [
      "<class 'pandas.core.frame.DataFrame'>\n"
     ]
    },
    {
     "data": {
      "text/html": [
       "<div>\n",
       "<style scoped>\n",
       "    .dataframe tbody tr th:only-of-type {\n",
       "        vertical-align: middle;\n",
       "    }\n",
       "\n",
       "    .dataframe tbody tr th {\n",
       "        vertical-align: top;\n",
       "    }\n",
       "\n",
       "    .dataframe thead th {\n",
       "        text-align: right;\n",
       "    }\n",
       "</style>\n",
       "<table border=\"1\" class=\"dataframe\">\n",
       "  <thead>\n",
       "    <tr style=\"text-align: right;\">\n",
       "      <th></th>\n",
       "      <th>t</th>\n",
       "      <th>x</th>\n",
       "      <th>y</th>\n",
       "      <th>p</th>\n",
       "    </tr>\n",
       "  </thead>\n",
       "  <tbody>\n",
       "    <tr>\n",
       "      <th>0</th>\n",
       "      <td>1629325542892574</td>\n",
       "      <td>323</td>\n",
       "      <td>42</td>\n",
       "      <td>1</td>\n",
       "    </tr>\n",
       "    <tr>\n",
       "      <th>1</th>\n",
       "      <td>1629325542892599</td>\n",
       "      <td>276</td>\n",
       "      <td>18</td>\n",
       "      <td>0</td>\n",
       "    </tr>\n",
       "    <tr>\n",
       "      <th>2</th>\n",
       "      <td>1629325542892605</td>\n",
       "      <td>280</td>\n",
       "      <td>44</td>\n",
       "      <td>0</td>\n",
       "    </tr>\n",
       "    <tr>\n",
       "      <th>3</th>\n",
       "      <td>1629325542892629</td>\n",
       "      <td>256</td>\n",
       "      <td>71</td>\n",
       "      <td>0</td>\n",
       "    </tr>\n",
       "    <tr>\n",
       "      <th>4</th>\n",
       "      <td>1629325542892662</td>\n",
       "      <td>329</td>\n",
       "      <td>35</td>\n",
       "      <td>1</td>\n",
       "    </tr>\n",
       "    <tr>\n",
       "      <th>...</th>\n",
       "      <td>...</td>\n",
       "      <td>...</td>\n",
       "      <td>...</td>\n",
       "      <td>...</td>\n",
       "    </tr>\n",
       "    <tr>\n",
       "      <th>37105396</th>\n",
       "      <td>1629325710083737</td>\n",
       "      <td>244</td>\n",
       "      <td>12</td>\n",
       "      <td>0</td>\n",
       "    </tr>\n",
       "    <tr>\n",
       "      <th>37105397</th>\n",
       "      <td>1629325710083737</td>\n",
       "      <td>137</td>\n",
       "      <td>47</td>\n",
       "      <td>1</td>\n",
       "    </tr>\n",
       "    <tr>\n",
       "      <th>37105398</th>\n",
       "      <td>1629325710083737</td>\n",
       "      <td>58</td>\n",
       "      <td>142</td>\n",
       "      <td>1</td>\n",
       "    </tr>\n",
       "    <tr>\n",
       "      <th>37105399</th>\n",
       "      <td>1629325710083738</td>\n",
       "      <td>236</td>\n",
       "      <td>7</td>\n",
       "      <td>1</td>\n",
       "    </tr>\n",
       "    <tr>\n",
       "      <th>37105400</th>\n",
       "      <td>1629325710083738</td>\n",
       "      <td>127</td>\n",
       "      <td>63</td>\n",
       "      <td>1</td>\n",
       "    </tr>\n",
       "  </tbody>\n",
       "</table>\n",
       "<p>37105401 rows × 4 columns</p>\n",
       "</div>"
      ],
      "text/plain": [
       "                         t    x    y  p\n",
       "0         1629325542892574  323   42  1\n",
       "1         1629325542892599  276   18  0\n",
       "2         1629325542892605  280   44  0\n",
       "3         1629325542892629  256   71  0\n",
       "4         1629325542892662  329   35  1\n",
       "...                    ...  ...  ... ..\n",
       "37105396  1629325710083737  244   12  0\n",
       "37105397  1629325710083737  137   47  1\n",
       "37105398  1629325710083737   58  142  1\n",
       "37105399  1629325710083738  236    7  1\n",
       "37105400  1629325710083738  127   63  1\n",
       "\n",
       "[37105401 rows x 4 columns]"
      ]
     },
     "execution_count": 4,
     "metadata": {},
     "output_type": "execute_result"
    }
   ],
   "source": [
    "print(type(event_stream))\n",
    "event_stream\n"
   ]
  },
  {
   "cell_type": "code",
   "execution_count": 5,
   "metadata": {},
   "outputs": [],
   "source": [
    "event_stream_numpy = np.copy(event_stream.to_numpy(np.uint64))"
   ]
  },
  {
   "cell_type": "code",
   "execution_count": 6,
   "metadata": {},
   "outputs": [
    {
     "name": "stdout",
     "output_type": "stream",
     "text": [
      "<class 'numpy.ndarray'>\n",
      "(37105401, 4)\n",
      "[1629325542892599              276               18                0]\n",
      "167.191164\n",
      "Time duration: 167.19s\n"
     ]
    }
   ],
   "source": [
    "print(type(event_stream_numpy))\n",
    "print(event_stream_numpy.shape)\n",
    "print(event_stream_numpy[1])\n",
    "print((event_stream_numpy[-1,0] - event_stream_numpy[0,0])/10e5)\n",
    "print(f'Time duration: {(event_stream_numpy[-1, 0] - event_stream_numpy[0, 0]) / 10e5 :.2f}s')\n",
    "\n",
    "event_stream_dict = {\"event_stream\": event_stream_numpy}\n",
    "# print(event_stream_dict)\n",
    "# savemat(\"event_stream_mat.mat\", event_stream_dict)"
   ]
  },
  {
   "cell_type": "code",
   "execution_count": 7,
   "metadata": {},
   "outputs": [],
   "source": [
    "display_timestep = 1.0 / 30.0\n",
    "history_time = 2.0 / 30.0\n",
    "\n",
    "display_timestep_ms = int(display_timestep * 10e5)\n",
    "history_time_ms = int(history_time * 10e5)"
   ]
  },
  {
   "cell_type": "code",
   "execution_count": 8,
   "metadata": {},
   "outputs": [
    {
     "data": {
      "application/vnd.jupyter.widget-view+json": {
       "model_id": "a80aac798eaa48b8ba30149039652291",
       "version_major": 2,
       "version_minor": 0
      },
      "text/plain": [
       "VBox(children=(IntSlider(value=0, max=5014), interactive(children=(Play(value=0, description='Press play', int…"
      ]
     },
     "metadata": {},
     "output_type": "display_data"
    }
   ],
   "source": [
    "target_times = np.arange(event_stream_numpy[0, t_index] + history_time_ms, event_stream_numpy[-1, t_index], display_timestep_ms, dtype=np.uint64)\n",
    "\n",
    "# plt.figure(1)\n",
    "\n",
    "def get_start_end_indices(target_time_idx):\n",
    "    target_time = target_times[target_time_idx]\n",
    "\n",
    "    start_time = np.uint64(target_time - history_time_ms)\n",
    "    end_time = np.uint64(target_time)\n",
    "\n",
    "    start_idx = event_stream_numpy[:, t_index].searchsorted(start_time)\n",
    "    end_idx = event_stream_numpy[:, t_index].searchsorted(end_time)\n",
    "\n",
    "    return start_idx, end_idx\n",
    "\n",
    "def plot_event_frame(target_time_idx):\n",
    "    measure_time_start = time.perf_counter()\n",
    "    start_idx, end_idx = get_start_end_indices(target_time_idx)\n",
    "    target_time = target_times[target_time_idx]\n",
    "\n",
    "    out_image = np.ones((im_height, im_width, 3), dtype=np.uint8) * 255\n",
    "    events = event_stream_numpy[start_idx:end_idx]\n",
    "    for t, x, y, p in events:\n",
    "        out_image[y, x] = (0, 0, 255) if p == 0 else (255, 0, 0)\n",
    "\n",
    "    text_to_print = f\"idx: {target_time_idx}; t: {target_time / 10e5: .2f}; len: {len(events)}\"\n",
    "    cv2.putText(out_image, text_to_print, (10, 15), cv2.FONT_HERSHEY_SIMPLEX, 0.4, (0, 0, 0))\n",
    "\n",
    "    scale = 2\n",
    "    mediapy.show_image(out_image, width=im_width*scale, height=im_height*scale)\n",
    "\n",
    "play = widgets.Play(\n",
    "    value=0,\n",
    "    min=0,\n",
    "    max=len(target_times),\n",
    "    step=1,\n",
    "    interval=display_timestep * 1000,\n",
    "    description=\"Press play\",\n",
    "    disabled=False\n",
    ")\n",
    "slider = widgets.IntSlider(max=len(target_times))\n",
    "widgets.jslink((play, 'value'), (slider, 'value'))\n",
    "# widgets.HBox([play, slider])\n",
    "\n",
    "interactive_plot = interactive(plot_event_frame, target_time_idx=play)\n",
    "# output = interactive_plot.children[-1]\n",
    "# output.layout.height = '350px'\n",
    "# interactive_plotccc\n",
    "display(widgets.VBox([slider, interactive_plot]))"
   ]
  },
  {
   "cell_type": "code",
   "execution_count": 9,
   "metadata": {},
   "outputs": [],
   "source": [
    "transform_example = transforms.Compose([\n",
    "    # transforms.DropEvent(0.9),\n",
    "    transforms.ToFrame(time_window=30000),\n",
    "])\n",
    "\n",
    "place_number = 2\n",
    "time_start = event_stream_numpy[0, 0] + place_number * 10e5\n",
    "time_end = event_stream_numpy[0, 0] + (place_number + 1) * 10e5\n",
    "\n",
    "start_idx = np.searchsorted(event_stream_numpy[:, 0], time_start)\n",
    "end_idx = np.searchsorted(event_stream_numpy[:, 0], time_end)"
   ]
  },
  {
   "cell_type": "code",
   "execution_count": 10,
   "metadata": {},
   "outputs": [],
   "source": [
    "events = np.copy(event_stream_numpy[start_idx:end_idx])\n",
    "\n",
    "out = transform_example(events, sensor_size=sensor_size, ordering=ordering)"
   ]
  },
  {
   "cell_type": "code",
   "execution_count": 11,
   "metadata": {},
   "outputs": [
    {
     "data": {
      "text/plain": [
       "(33, 2, 346, 260)"
      ]
     },
     "execution_count": 11,
     "metadata": {},
     "output_type": "execute_result"
    }
   ],
   "source": [
    "out.shape"
   ]
  },
  {
   "cell_type": "code",
   "execution_count": null,
   "metadata": {},
   "outputs": [],
   "source": []
  }
 ],
 "metadata": {
  "interpreter": {
   "hash": "212629754625c63a4de2d2e644bbc952e1b2f1d39b51725c48e7d3300fb36356"
  },
  "kernelspec": {
   "display_name": "Python 3.8.12 64-bit ('EBS_env': conda)",
   "name": "python3"
  },
  "language_info": {
   "codemirror_mode": {
    "name": "ipython",
    "version": 3
   },
   "file_extension": ".py",
   "mimetype": "text/x-python",
   "name": "python",
   "nbconvert_exporter": "python",
   "pygments_lexer": "ipython3",
   "version": "3.8.12"
  },
  "orig_nbformat": 4
 },
 "nbformat": 4,
 "nbformat_minor": 2
}
